{
 "cells": [
  {
   "cell_type": "markdown",
   "id": "7f025dfa",
   "metadata": {},
   "source": [
    "# Web scraping project\n",
    "This project will scrape data about the top 50 films released from 1950 to 2012 (source https://www.imdb.com/search/title/sort=num_votes,desc&start=1&title_type=feature&year=1950,2012.) Using this information,this project will investigate the following 3 questions:\n",
    "Which director has the highest number of movies in the top 50 rated movies?\n",
    "Which genre has the highest rating among the top 50 rated movies?\n",
    "What is the gross expenditure of the lowest-rated movies as compared with the highest-rated ones?\n",
    "\n"
   ]
  },
  {
   "cell_type": "code",
   "execution_count": 1,
   "id": "da9cdd14",
   "metadata": {},
   "outputs": [],
   "source": [
    "#Import libraries\n",
    "from bs4 import BeautifulSoup\n",
    "import requests\n",
    "import csv\n",
    "import pandas as pd\n",
    "import copy\n",
    "\n",
    "file = open('moviescrape1.csv', 'w')\n",
    "writer = csv.writer(file)\n",
    "writer.writerow(['Movie title', 'Director', 'Ratings', 'Genre','Gross expenditure'])\n",
    "page_to_scrape = requests.get(\"https://www.imdb.com/search/title/?sort=num_votes,desc&start=1&title_type=feature&year=1950,2012\")\n",
    "soup = BeautifulSoup(page_to_scrape.text, 'html.parser')"
   ]
  },
  {
   "cell_type": "code",
   "execution_count": 2,
   "id": "18bc2f9a",
   "metadata": {
    "scrolled": true
   },
   "outputs": [
    {
     "name": "stdout",
     "output_type": "stream",
     "text": [
      "['The Shawshank Redemption', 'The Dark Knight', 'Inception', 'Fight Club', 'Forrest Gump', 'Pulp Fiction', 'The Matrix', 'The Lord of the Rings: The Fellowship of the Ring', 'The Godfather', 'The Lord of the Rings: The Return of the King', 'The Dark Knight Rises', 'The Lord of the Rings: The Two Towers', 'Seven', 'Django Unchained', 'Gladiator', 'Batman Begins', 'Inglourious Basterds', 'The Silence of the Lambs', 'Saving Private Ryan', 'Avengers Assemble', 'Star Wars: Episode IV - A New Hope', \"Schindler's List\", 'The Prestige', 'Shutter Island', 'The Departed', 'Avatar', 'The Green Mile', 'Star Wars: Episode V - The Empire Strikes Back', 'The Godfather Part II', 'Memento', 'Back to the Future', 'Titanic', 'GoodFellas', 'Leon', 'American Beauty', 'Pirates of the Caribbean: The Curse of the Black Pearl', 'WALL·E', 'American History X', 'Kill Bill: Vol. 1', 'V for Vendetta', 'Terminator 2: Judgment Day', 'The Truman Show', 'The Usual Suspects', 'The Lion King', 'Iron Man', 'Star Wars: Episode VI - Return of the Jedi', 'Up', 'Finding Nemo', 'Braveheart', 'The Shining']\n",
      "['Frank Darabont', 'Christopher Nolan', 'Christopher Nolan', 'David Fincher', 'Robert Zemeckis', 'Quentin Tarantino', 'Lana Wachowski', 'Peter Jackson', 'Francis Ford Coppola', 'Peter Jackson', 'Christopher Nolan', 'Peter Jackson', 'David Fincher', 'Quentin Tarantino', 'Ridley Scott', 'Christopher Nolan', 'Quentin Tarantino', 'Jonathan Demme', 'Steven Spielberg', 'Joss Whedon', 'George Lucas', 'Steven Spielberg', 'Christopher Nolan', 'Martin Scorsese', 'Martin Scorsese', 'James Cameron', 'Frank Darabont', 'Irvin Kershner', 'Francis Ford Coppola', 'Christopher Nolan', 'Robert Zemeckis', 'James Cameron', 'Martin Scorsese', 'Luc Besson', 'Sam Mendes', 'Gore Verbinski', 'Andrew Stanton', 'Tony Kaye', 'Quentin Tarantino', 'James McTeigue', 'James Cameron', 'Peter Weir', 'Bryan Singer', 'Roger Allers', 'Jon Favreau', 'Richard Marquand', 'Pete Docter', 'Andrew Stanton', 'Mel Gibson', 'Stanley Kubrick']\n"
     ]
    }
   ],
   "source": [
    "#movie title and director name comes as hyperlink, scraping process below\n",
    "#Title\n",
    "movie= soup.findAll('h3', class_='lister-item-header')\n",
    "movienames=[]\n",
    "for link in movie:\n",
    "    movienames.append(link.a.text)\n",
    "print(movienames)\n",
    "#Director name\n",
    "director=soup.findAll('p', class_='')\n",
    "directornames=[]\n",
    "for link in director:\n",
    "        directornames.append(link.a.text)\n",
    "print(directornames)"
   ]
  },
  {
   "cell_type": "code",
   "execution_count": 4,
   "id": "7a3fb503",
   "metadata": {},
   "outputs": [
    {
     "name": "stdout",
     "output_type": "stream",
     "text": [
      "['9.3', '9.0', '8.8', '8.8', '8.8', '8.9', '8.7', '8.8', '9.2', '9.0', '8.4', '8.8', '8.6', '8.4', '8.5', '8.2', '8.3', '8.6', '8.6', '8.0', '8.6', '9.0', '8.5', '8.2', '8.5', '7.9', '8.6', '8.7', '9.0', '8.4', '8.5', '7.9', '8.7', '8.5', '8.3', '8.1', '8.4', '8.5', '8.2', '8.2', '8.6', '8.2', '8.5', '8.5', '7.9', '8.3', '8.3', '8.2', '8.3', '8.4']\n",
      "['Drama', 'Action, Crime, Drama', 'Action, Adventure, Sci-Fi', 'Drama', 'Drama, Romance', 'Crime, Drama', 'Action, Sci-Fi', 'Action, Adventure, Drama', 'Crime, Drama', 'Action, Adventure, Drama', 'Action, Drama, Thriller', 'Action, Adventure, Drama', 'Crime, Drama, Mystery', 'Drama, Western', 'Action, Adventure, Drama', 'Action, Crime, Drama', 'Adventure, Drama, War', 'Crime, Drama, Thriller', 'Drama, War', 'Action, Sci-Fi', 'Action, Adventure, Fantasy', 'Biography, Drama, History', 'Drama, Mystery, Sci-Fi', 'Mystery, Thriller', 'Crime, Drama, Thriller', 'Action, Adventure, Fantasy', 'Crime, Drama, Fantasy', 'Action, Adventure, Fantasy', 'Crime, Drama', 'Mystery, Thriller', 'Adventure, Comedy, Sci-Fi', 'Drama, Romance', 'Biography, Crime, Drama', 'Action, Crime, Drama', 'Drama', 'Action, Adventure, Fantasy', 'Animation, Adventure, Family', 'Crime, Drama', 'Action, Crime, Thriller', 'Action, Drama, Sci-Fi', 'Action, Sci-Fi', 'Comedy, Drama', 'Crime, Drama, Mystery', 'Animation, Adventure, Drama', 'Action, Adventure, Sci-Fi', 'Action, Adventure, Fantasy', 'Animation, Adventure, Comedy', 'Animation, Adventure, Comedy', 'Biography, Drama, History', 'Drama, Horror']\n",
      "['2,766,904', '2,740,409', '2,431,827', '2,203,546', '2,152,218', '2,124,095', '1,970,820', '1,927,122', '1,925,794', '1,898,687', '1,753,834', '1,713,480', '1,711,128', '1,612,938', '1,545,894', '1,514,121', '1,504,022', '1,477,369', '1,433,440', '1,422,985', '1,401,872', '1,393,643', '1,374,376', '1,373,759', '1,365,568', '1,353,205', '1,345,317', '1,329,618', '1,310,170', '1,271,243', '1,249,162', '1,232,842', '1,200,888', '1,197,188', '1,178,287', '1,161,630', '1,151,721', '1,149,119', '1,147,466', '1,145,804', '1,130,866', '1,127,533', '1,109,959', '1,093,643', '1,088,892', '1,084,091', '1,078,090', '1,073,438', '1,060,532', '1,056,950']\n"
     ]
    }
   ],
   "source": [
    "#Rating\n",
    "ratinginfo=soup.findAll('div', class_='inline-block ratings-imdb-rating')\n",
    "ratings=[]\n",
    "for value in ratinginfo:\n",
    "    rating=value.text.strip()\n",
    "    ratings.append(rating)\n",
    "print(ratings)\n",
    "#genre\n",
    "genreinfo=soup.findAll('span', class_='genre')\n",
    "genre=[]\n",
    "for gen in genreinfo:\n",
    "    genrestrip=gen.text.strip()\n",
    "    genre.append(genrestrip)\n",
    "print(genre)\n",
    "#gross expenditure\n",
    "spendinfo=soup.findAll('p', class_='sort-num_votes-visible')\n",
    "cost=[]\n",
    "for value in spendinfo:\n",
    "    valuestrip=value.findAll('span')\n",
    "    if len(valuestrip) > 1:\n",
    "        gross_expenditure = valuestrip[1].text.strip()\n",
    "        cost.append(gross_expenditure)\n",
    "print(cost)\n",
    "#Datascrape complete "
   ]
  },
  {
   "cell_type": "code",
   "execution_count": 5,
   "id": "b16e7858",
   "metadata": {},
   "outputs": [
    {
     "name": "stdout",
     "output_type": "stream",
     "text": [
      "The Shawshank Redemption-Frank Darabont-9.3-Drama-2,766,904\n",
      "The Dark Knight-Christopher Nolan-9.0-Action, Crime, Drama-2,740,409\n",
      "Inception-Christopher Nolan-8.8-Action, Adventure, Sci-Fi-2,431,827\n",
      "Fight Club-David Fincher-8.8-Drama-2,203,546\n",
      "Forrest Gump-Robert Zemeckis-8.8-Drama, Romance-2,152,218\n",
      "Pulp Fiction-Quentin Tarantino-8.9-Crime, Drama-2,124,095\n",
      "The Matrix-Lana Wachowski-8.7-Action, Sci-Fi-1,970,820\n",
      "The Lord of the Rings: The Fellowship of the Ring-Peter Jackson-8.8-Action, Adventure, Drama-1,927,122\n",
      "The Godfather-Francis Ford Coppola-9.2-Crime, Drama-1,925,794\n",
      "The Lord of the Rings: The Return of the King-Peter Jackson-9.0-Action, Adventure, Drama-1,898,687\n",
      "The Dark Knight Rises-Christopher Nolan-8.4-Action, Drama, Thriller-1,753,834\n",
      "The Lord of the Rings: The Two Towers-Peter Jackson-8.8-Action, Adventure, Drama-1,713,480\n",
      "Seven-David Fincher-8.6-Crime, Drama, Mystery-1,711,128\n",
      "Django Unchained-Quentin Tarantino-8.4-Drama, Western-1,612,938\n",
      "Gladiator-Ridley Scott-8.5-Action, Adventure, Drama-1,545,894\n",
      "Batman Begins-Christopher Nolan-8.2-Action, Crime, Drama-1,514,121\n",
      "Inglourious Basterds-Quentin Tarantino-8.3-Adventure, Drama, War-1,504,022\n",
      "The Silence of the Lambs-Jonathan Demme-8.6-Crime, Drama, Thriller-1,477,369\n",
      "Saving Private Ryan-Steven Spielberg-8.6-Drama, War-1,433,440\n",
      "Avengers Assemble-Joss Whedon-8.0-Action, Sci-Fi-1,422,985\n",
      "Star Wars: Episode IV - A New Hope-George Lucas-8.6-Action, Adventure, Fantasy-1,401,872\n",
      "Schindler's List-Steven Spielberg-9.0-Biography, Drama, History-1,393,643\n",
      "The Prestige-Christopher Nolan-8.5-Drama, Mystery, Sci-Fi-1,374,376\n",
      "Shutter Island-Martin Scorsese-8.2-Mystery, Thriller-1,373,759\n",
      "The Departed-Martin Scorsese-8.5-Crime, Drama, Thriller-1,365,568\n",
      "Avatar-James Cameron-7.9-Action, Adventure, Fantasy-1,353,205\n",
      "The Green Mile-Frank Darabont-8.6-Crime, Drama, Fantasy-1,345,317\n",
      "Star Wars: Episode V - The Empire Strikes Back-Irvin Kershner-8.7-Action, Adventure, Fantasy-1,329,618\n",
      "The Godfather Part II-Francis Ford Coppola-9.0-Crime, Drama-1,310,170\n",
      "Memento-Christopher Nolan-8.4-Mystery, Thriller-1,271,243\n",
      "Back to the Future-Robert Zemeckis-8.5-Adventure, Comedy, Sci-Fi-1,249,162\n",
      "Titanic-James Cameron-7.9-Drama, Romance-1,232,842\n",
      "GoodFellas-Martin Scorsese-8.7-Biography, Crime, Drama-1,200,888\n",
      "Leon-Luc Besson-8.5-Action, Crime, Drama-1,197,188\n",
      "American Beauty-Sam Mendes-8.3-Drama-1,178,287\n",
      "Pirates of the Caribbean: The Curse of the Black Pearl-Gore Verbinski-8.1-Action, Adventure, Fantasy-1,161,630\n",
      "WALL·E-Andrew Stanton-8.4-Animation, Adventure, Family-1,151,721\n",
      "American History X-Tony Kaye-8.5-Crime, Drama-1,149,119\n",
      "Kill Bill: Vol. 1-Quentin Tarantino-8.2-Action, Crime, Thriller-1,147,466\n",
      "V for Vendetta-James McTeigue-8.2-Action, Drama, Sci-Fi-1,145,804\n",
      "Terminator 2: Judgment Day-James Cameron-8.6-Action, Sci-Fi-1,130,866\n",
      "The Truman Show-Peter Weir-8.2-Comedy, Drama-1,127,533\n",
      "The Usual Suspects-Bryan Singer-8.5-Crime, Drama, Mystery-1,109,959\n",
      "The Lion King-Roger Allers-8.5-Animation, Adventure, Drama-1,093,643\n",
      "Iron Man-Jon Favreau-7.9-Action, Adventure, Sci-Fi-1,088,892\n",
      "Star Wars: Episode VI - Return of the Jedi-Richard Marquand-8.3-Action, Adventure, Fantasy-1,084,091\n",
      "Up-Pete Docter-8.3-Animation, Adventure, Comedy-1,078,090\n",
      "Finding Nemo-Andrew Stanton-8.2-Animation, Adventure, Comedy-1,073,438\n",
      "Braveheart-Mel Gibson-8.3-Biography, Drama, History-1,060,532\n",
      "The Shining-Stanley Kubrick-8.4-Drama, Horror-1,056,950\n"
     ]
    }
   ],
   "source": [
    "#Loop through lists using Zip function to combime them together\n",
    "for movie,director,rate,genre,gross in zip(movienames,directornames,ratings,genre,cost):\n",
    "    print(movie + \"-\" + director + \"-\" + rate + \"-\" + genre + \"-\" + gross)\n",
    "    #Write each item onto a new row\n",
    "    writer.writerow([movie, director,rate,genre,gross])\n",
    "file.close()"
   ]
  },
  {
   "cell_type": "markdown",
   "id": "51ec8701",
   "metadata": {},
   "source": [
    "## Data analysis\n",
    "This section will answer the following questions:\n",
    "1. Which director has the highest number of movies in the top 50 rated movies?\n",
    "2. Which genre has the highest rating among the top 50 rated movies?\n",
    "3. What is the gross expenditure of the lowest-rated movies as compared with the highest-rated\n",
    "ones?"
   ]
  },
  {
   "cell_type": "code",
   "execution_count": 6,
   "id": "5be316af",
   "metadata": {},
   "outputs": [
    {
     "name": "stdout",
     "output_type": "stream",
     "text": [
      "The director with the highest number of films in the top 50 is Christoper nolan with a total of 6 films\n"
     ]
    }
   ],
   "source": [
    "df1=pd.read_csv(\"moviescrape1.csv\",encoding='ISO-8859-1')\n",
    "df1.head()\n",
    "#1.Which director has the highest number of movies in the top 50 rated movies?\n",
    "directorcount=df1.groupby(by=[\"Director\"],as_index=True)['Director'].count()\n",
    "directorcount=directorcount.sort_values(ascending=False)\n",
    "directorcount.head()\n",
    "\n",
    "print('The director with the highest number of films in the top 50 is Christoper nolan with a total of 6 films')"
   ]
  },
  {
   "cell_type": "code",
   "execution_count": 7,
   "id": "b9eb31eb",
   "metadata": {},
   "outputs": [
    {
     "name": "stdout",
     "output_type": "stream",
     "text": [
      "Based on a single category, the genre with the highest rating is Crime, with an average of 8.71\n"
     ]
    }
   ],
   "source": [
    "#2 Which genre has the highest rating among the top 50 rated movies?\n",
    "df2=df1.copy(deep=True)\n",
    "df2['Genre']=df2['Genre'].str.split(',', n=1).str[0]\n",
    "\n",
    "genrecount=df2.groupby(by=[\"Genre\"],as_index=True)['Ratings'].mean()\n",
    "genrecount=genrecount.sort_values(ascending=False)\n",
    "genrecount.head()\n",
    "\n",
    "print('Based on a single category, the genre with the highest rating is Crime, with an average of 8.71')\n",
    "\n",
    "\n"
   ]
  },
  {
   "cell_type": "code",
   "execution_count": 8,
   "id": "00ae06d9",
   "metadata": {},
   "outputs": [
    {
     "name": "stdout",
     "output_type": "stream",
     "text": [
      "The average rating of a top-rated movie (i.e. one within the top 10% of the movie list) is 8.94. Here the average gross \n",
      "expenditure is £2458980.8.\n",
      "In comparison, the average rating of a bottom-rated movie (i.e. one within the bottom 10% of the movie list) is 8.3. Here the \n",
      "average gross expenditure is £1070620.2.\n"
     ]
    }
   ],
   "source": [
    "#3.What is the gross expenditure of the lowest-rated movies as compared with the highest-rated ones?\n",
    "df1=df1.sort_values(by='Gross expenditure', ascending=False)\n",
    "df1['Gross expenditure'] = df1['Gross expenditure'].str.replace(',', '').astype(float)\n",
    "df_top_rate=df1.head()\n",
    "df_bot_rate=df1.tail()\n",
    "print(f\"The average rating of a top-rated movie (i.e. one within the top 10% of the movie list) is {round(df_top_rate['Ratings'].mean(),2)}. Here the average gross \\nexpenditure is \\u00A3{round(df_top_rate['Gross expenditure'].mean(),2)}.\")\n",
    "print(f'In comparison, the average rating of a bottom-rated movie (i.e. one within the bottom 10% of the movie list) is {round(df_bot_rate[\"Ratings\"].mean(),2)}. Here the \\naverage gross expenditure is \\u00A3{round(df_bot_rate[\"Gross expenditure\"].mean(),2)}.')\n"
   ]
  },
  {
   "cell_type": "code",
   "execution_count": 9,
   "id": "64e4d7aa",
   "metadata": {},
   "outputs": [
    {
     "name": "stdout",
     "output_type": "stream",
     "text": [
      "<class 'pandas.core.frame.DataFrame'>\n",
      "Int64Index: 5 entries, 0 to 4\n",
      "Data columns (total 5 columns):\n",
      " #   Column             Non-Null Count  Dtype  \n",
      "---  ------             --------------  -----  \n",
      " 0   Movie title        5 non-null      object \n",
      " 1   Director           5 non-null      object \n",
      " 2   Ratings            5 non-null      float64\n",
      " 3   Genre              5 non-null      object \n",
      " 4   Gross expenditure  5 non-null      float64\n",
      "dtypes: float64(2), object(3)\n",
      "memory usage: 240.0+ bytes\n"
     ]
    }
   ],
   "source": []
  },
  {
   "cell_type": "code",
   "execution_count": null,
   "id": "a366a333",
   "metadata": {},
   "outputs": [],
   "source": []
  }
 ],
 "metadata": {
  "kernelspec": {
   "display_name": "Python 3 (ipykernel)",
   "language": "python",
   "name": "python3"
  },
  "language_info": {
   "codemirror_mode": {
    "name": "ipython",
    "version": 3
   },
   "file_extension": ".py",
   "mimetype": "text/x-python",
   "name": "python",
   "nbconvert_exporter": "python",
   "pygments_lexer": "ipython3",
   "version": "3.10.9"
  }
 },
 "nbformat": 4,
 "nbformat_minor": 5
}
